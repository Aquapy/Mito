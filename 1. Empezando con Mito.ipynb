{
 "cells": [
  {
   "cell_type": "markdown",
   "id": "edf933bc-e325-4f42-8bfd-9d1c44973dba",
   "metadata": {},
   "source": [
    "# Instalación de Mito"
   ]
  },
  {
   "cell_type": "markdown",
   "id": "b5596787-2bb8-419a-97d9-1cda9cda3e9b",
   "metadata": {},
   "source": [
    "Para instalar Mito debes tener instalada una versión de **Python superior a la 3.6** ¿Como saber que versión tienes instalada?"
   ]
  },
  {
   "cell_type": "markdown",
   "id": "2a5f0cb1-255e-4d87-981c-81de62d9a8ad",
   "metadata": {},
   "source": [
    "En la consola escribe **``python --version``** y te saldrá la versión de Python que tienes instalada."
   ]
  },
  {
   "attachments": {
    "e08bfa76-690f-4aa6-b8b5-4c2adc2e92a1.png": {
     "image/png": "[encoded data removed]"
    }
   },
   "cell_type": "markdown",
   "id": "91ba22c5-cf0f-4241-a617-b2b7143bf516",
   "metadata": {},
   "source": [
    "![image.png](attachment:e08bfa76-690f-4aa6-b8b5-4c2adc2e92a1.png)"
   ]
  },
  {
   "cell_type": "markdown",
   "id": "a675f88d-fbcf-4f0c-a26d-64f292aa089d",
   "metadata": {},
   "source": [
    "_En mi caso tengo la verión 3.9.7._"
   ]
  },
  {
   "cell_type": "markdown",
   "id": "7470c6ae-2d28-4cda-9a73-b8fdcf11167f",
   "metadata": {},
   "source": [
    "<div class=\"alert alert-block alert-info\">\n",
    "  \n",
    "La instalación de Mito, se puede realizar en un entorno virtual ya que puede generar conflictos con otros paquetes. Si no sabes mucho acerca de esto te dejo una referencia para que puedas consultarlo:\n",
    "\n",
    "* https://docs.conda.io/projects/conda/en/latest/user-guide/tasks/manage-environments.html\n",
    "    \n",
    "</div>"
   ]
  },
  {
   "cell_type": "markdown",
   "id": "6d22e5ed-7d85-4332-8372-00aa252af7ef",
   "metadata": {},
   "source": [
    "Los pasos para crear un eviroment son:</n>\n",
    "\n",
    "**1.** Crea un nuevo enviroment. En mi caso lo voy a llamar ``mitoenv``. Para esto escribimos en la consola:"
   ]
  },
  {
   "cell_type": "markdown",
   "id": "3112023c-1751-4d77-92ec-c346bd99aab4",
   "metadata": {},
   "source": [
    "**conda create --name** mitoenv"
   ]
  },
  {
   "attachments": {
    "b85179ec-d3d0-4a41-b7bc-a772da0a4968.png": {
     "image/png": "[encoded data removed]"
    }
   },
   "cell_type": "markdown",
   "id": "d3135bed-87a7-4e83-97e0-8b194b9cdaed",
   "metadata": {},
   "source": [
    "![image.png](attachment:b85179ec-d3d0-4a41-b7bc-a772da0a4968.png)"
   ]
  },
  {
   "cell_type": "markdown",
   "id": "178a3d6a-05cd-4446-b8c4-1b332855afbc",
   "metadata": {},
   "source": [
    "**2.** Cuando Conda te pida que continúe, escriba ``y`` despues ``enter``:"
   ]
  },
  {
   "attachments": {
    "f15bdca7-5236-4542-b64b-6b842342e926.png": {
     "image/png": "[encoded data removed]"
    }
   },
   "cell_type": "markdown",
   "id": "3a93e7e8-67ee-4a51-9bed-80a38c87d40a",
   "metadata": {},
   "source": [
    "![image.png](attachment:f15bdca7-5236-4542-b64b-6b842342e926.png)"
   ]
  },
  {
   "cell_type": "markdown",
   "id": "7c0dcc08-bea1-4ea0-8200-2b42d92c5a2b",
   "metadata": {},
   "source": [
    "**3.** Depués solo falta activar el entorno. Para esto escribiremos. </n>\n",
    "\n",
    "   **conda activate** mitoenv"
   ]
  },
  {
   "attachments": {
    "8e8c9771-08fb-4cab-8a43-69542c6288e6.png": {
     "image/png": "[encoded data removed]"
    }
   },
   "cell_type": "markdown",
   "id": "3175d0f2-fa69-43cf-904d-41d7254b6d98",
   "metadata": {},
   "source": [
    "![image.png](attachment:8e8c9771-08fb-4cab-8a43-69542c6288e6.png)"
   ]
  },
  {
   "attachments": {
    "6deb05df-ed0d-4142-ad7c-b2a112efb348.png": {
     "image/png": "[encoded data removed]"
    }
   },
   "cell_type": "markdown",
   "id": "64ac4c3f-c3fe-484d-b2a6-37b24ab7c473",
   "metadata": {},
   "source": [
    "Con el entorno activado ya podemos instalar el paquete, para esto escribimos **``python -m pip install mitoinstaller``**:\n",
    "* ![image.png](attachment:6deb05df-ed0d-4142-ad7c-b2a112efb348.png)"
   ]
  },
  {
   "cell_type": "markdown",
   "id": "0c04a4aa-5b74-4fce-8eb6-ce1c2dc42426",
   "metadata": {},
   "source": [
    "Luego lo ejecutamos con **``python -m mitoinstaller install``**"
   ]
  },
  {
   "attachments": {
    "2c5a4126-3d61-4905-bc3b-3e1598532209.png": {
     "image/png": "[encoded data removed]"
    }
   },
   "cell_type": "markdown",
   "id": "e714b8e6-68b2-4000-8eca-69794de695ef",
   "metadata": {},
   "source": [
    "![image.png](attachment:2c5a4126-3d61-4905-bc3b-3e1598532209.png)"
   ]
  },
  {
   "cell_type": "markdown",
   "id": "213e71f5-74fd-4b1d-87cd-33f333fba68c",
   "metadata": {},
   "source": [
    "<div class=\"alert alert-block alert-info\">\n",
    "  \n",
    "Después se desplegará una ventana nueva de Jupyter lab, sin embargo, puedes seguir trabajando en este notebook simplemente actualizando la página de navegador.\n",
    "\n",
    "* https://docs.conda.io/projects/conda/en/latest/user-guide/tasks/manage-environments.html\n",
    "    \n",
    "</div>"
   ]
  },
  {
   "cell_type": "code",
   "execution_count": 1,
   "id": "cf0dffa4-b542-4a52-a1a6-50aa764b53ac",
   "metadata": {},
   "outputs": [
    {
     "data": {
      "application/vnd.jupyter.widget-view+json": {
       "model_id": "4cd3557fbb1b4ce38c35b5a005f504e2",
       "version_major": 2,
       "version_minor": 0
      },
      "text/plain": [
       "MitoWidget(analysis_data_json='{\"analysisName\": \"id-wmetrdyoaz\", \"analysisToReplay\": {\"analysisName\": \"id-lwjc…"
      ]
     },
     "metadata": {},
     "output_type": "display_data"
    }
   ],
   "source": [
    "# Run this cell to render a mitosheet\n",
    "# See mito's documentation here: https://docs.trymito.io/how-to/creating-a-mitosheet\n",
    "# Join our Discord for support here: https://discord.gg/XdJSZyejJU\n",
    "\n",
    "import mitosheet\n",
    "mitosheet.sheet(analysis_to_replay=\"id-lwjcssvden\")"
   ]
  },
  {
   "cell_type": "code",
   "execution_count": 2,
   "id": "712acf74-5ced-4348-834e-3b596d0c47af",
   "metadata": {
    "tags": []
   },
   "outputs": [],
   "source": []
  }
 ],
 "metadata": {
  "kernelspec": {
   "display_name": "Python 3 (ipykernel)",
   "language": "python",
   "name": "python3"
  },
  "language_info": {
   "codemirror_mode": {
    "name": "ipython",
    "version": 3
   },
   "file_extension": ".py",
   "mimetype": "text/x-python",
   "name": "python",
   "nbconvert_exporter": "python",
   "pygments_lexer": "ipython3",
   "version": "3.9.7"
  }
 },
 "nbformat": 4,
 "nbformat_minor": 5
}
