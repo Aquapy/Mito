{
 "cells": [
  {
   "cell_type": "markdown",
   "id": "e984b7c6-a77f-4d19-86f8-352dc1c14b5b",
   "metadata": {},
   "source": [
    "# Graficando con Mito\n",
    "***"
   ]
  },
  {
   "cell_type": "markdown",
   "id": "491c3762-e60f-44c8-b665-662e83e1c610",
   "metadata": {},
   "source": [
    "En este notebook vamos a trabajar con un dataset de la librería ``Seaborn``. El dataset corresponde con los datos de pasajeros de vuelos de una aerolinea comprendidos entre 1949 a 1960."
   ]
  },
  {
   "cell_type": "code",
   "execution_count": 1,
   "id": "642a6006-d088-4d7f-838e-0e4c5001aa9e",
   "metadata": {},
   "outputs": [],
   "source": [
    "# Importar libreria mito\n",
    " "
   ]
  },
  {
   "cell_type": "code",
   "execution_count": null,
   "id": "9522e3a9-668b-4e46-a1bf-f4ea91905771",
   "metadata": {},
   "outputs": [],
   "source": [
    "# Cargar el set de datos\n",
    " "
   ]
  },
  {
   "cell_type": "markdown",
   "id": "36f5bf59-fe27-4e97-a1d8-7229cb95bc35",
   "metadata": {},
   "source": [
    "La libreria Mito cuenta con diferentes tipos de gráficos que vamos a explorar a continuación."
   ]
  },
  {
   "cell_type": "code",
   "execution_count": null,
   "id": "a8d62fa9-2d8a-4f92-a7e3-7ca4555aee33",
   "metadata": {},
   "outputs": [],
   "source": []
  }
 ],
 "metadata": {
  "kernelspec": {
   "display_name": "Python 3 (ipykernel)",
   "language": "python",
   "name": "python3"
  },
  "language_info": {
   "codemirror_mode": {
    "name": "ipython",
    "version": 3
   },
   "file_extension": ".py",
   "mimetype": "text/x-python",
   "name": "python",
   "nbconvert_exporter": "python",
   "pygments_lexer": "ipython3",
   "version": "3.9.7"
  }
 },
 "nbformat": 4,
 "nbformat_minor": 5
}
